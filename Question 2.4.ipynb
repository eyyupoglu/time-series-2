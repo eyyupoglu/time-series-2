{
 "cells": [
  {
   "cell_type": "markdown",
   "metadata": {},
   "source": [
    "# Question 2.4: Consider the following ARMA(1,1) process"
   ]
  },
  {
   "cell_type": "code",
   "execution_count": 9,
   "metadata": {},
   "outputs": [],
   "source": [
    "from tools import tsplot, tsdiag, cusumRepeat, simArima\n",
    "from statsmodels.tsa.arima_model import ARIMA, ARMA\n",
    "import numpy as np\n",
    "import matplotlib.pyplot as plt\n",
    "import random\n",
    "random.seed(12)\n",
    "plt.figure(figsize=(20, 16))\n",
    "%matplotlib inline"
   ]
  },
  {
   "cell_type": "code",
   "execution_count": 6,
   "metadata": {},
   "outputs": [],
   "source": [
    "\n",
    "ar_list = [ np.array([ 0.9 ]) , np.array([ 0.995]) ]\n",
    "sigma_list = [ 0.1, 5]\n",
    "ma = np.array([ 0.4 ]) \n",
    "dParam = 0"
   ]
  },
  {
   "cell_type": "code",
   "execution_count": 26,
   "metadata": {},
   "outputs": [
    {
     "name": "stderr",
     "output_type": "stream",
     "text": [
      "C:\\working\\Python_3_withTroch\\Python3\\python-3.6.2.amd64\\statsmodels\\base\\model.py:508: ConvergenceWarning: Maximum Likelihood optimization failed to converge. Check mle_retvals\n",
      "  \"Check mle_retvals\", ConvergenceWarning)\n"
     ]
    },
    {
     "name": "stdout",
     "output_type": "stream",
     "text": [
      "0.9375454760995195 0.8148881374993577\n"
     ]
    },
    {
     "data": {
      "image/png": "[encoded data removed]",
      "text/plain": [
       "<matplotlib.figure.Figure at 0x16c072b0>"
      ]
     },
     "metadata": {
      "needs_background": "light"
     },
     "output_type": "display_data"
    }
   ],
   "source": [
    "ar_list = []\n",
    "ma_list = []\n",
    "ar = np.array([ 0.9 ])\n",
    "sigma = 0.1\n",
    "ma = np.array([ 0.4 ])\n",
    "for i in range(100):\n",
    "    sim1 = simArima(ar = ar, d = 0, ma = ma, n = 300, sigma = sigma)\n",
    "    model = ARMA(sim1, order = (1,1)).fit(method='mle', trend='nc')\n",
    "    ar_list.append(model.arparams[0])\n",
    "    ma_list.append(model.maparams[0])\n",
    "plt.title('sigma: ' + str(sigma) + ', ar: ' + str(ar))\n",
    "plt.hist(ar_list, bins=20)\n",
    "ar_array = np.array(ar_list)\n",
    "upper_perc = np.percentile(ar_array, 97.5, axis=0)\n",
    "lower_perc = np.percentile(ar_array, 2.5, axis=0)\n",
    "plt.axvline(upper_perc, color='k', linestyle='dashed', linewidth=1)\n",
    "plt.axvline(lower_perc, color='k', linestyle='dashed', linewidth=1)\n",
    "plt.ylabel('Number of occurance') \n",
    "print(upper_perc, lower_perc)"
   ]
  },
  {
   "cell_type": "code",
   "execution_count": 27,
   "metadata": {},
   "outputs": [
    {
     "name": "stderr",
     "output_type": "stream",
     "text": [
      "C:\\working\\Python_3_withTroch\\Python3\\python-3.6.2.amd64\\statsmodels\\base\\model.py:508: ConvergenceWarning: Maximum Likelihood optimization failed to converge. Check mle_retvals\n",
      "  \"Check mle_retvals\", ConvergenceWarning)\n",
      "C:\\working\\Python_3_withTroch\\Python3\\python-3.6.2.amd64\\statsmodels\\base\\model.py:508: ConvergenceWarning: Maximum Likelihood optimization failed to converge. Check mle_retvals\n",
      "  \"Check mle_retvals\", ConvergenceWarning)\n"
     ]
    },
    {
     "name": "stdout",
     "output_type": "stream",
     "text": [
      "0.996068373984845 0.9463321389132886\n"
     ]
    },
    {
     "data": {
      "image/png": "[encoded data removed]",
      "text/plain": [
       "<matplotlib.figure.Figure at 0x1733abe0>"
      ]
     },
     "metadata": {
      "needs_background": "light"
     },
     "output_type": "display_data"
    }
   ],
   "source": [
    "ar_list = []\n",
    "ma_list = []\n",
    "ar = np.array([ 0.995 ])\n",
    "sigma = 0.1\n",
    "ma = np.array([ 0.4 ])\n",
    "for i in range(100):\n",
    "    sim1 = simArima(ar = ar, d = 0, ma = ma, n = 300, sigma = sigma)\n",
    "    try:\n",
    "        model = ARMA(sim1, order = (1,1)).fit(method='mle', trend='nc')\n",
    "        ar_list.append(model.arparams[0])\n",
    "        ma_list.append(model.maparams[0])\n",
    "    except:\n",
    "        continue\n",
    "plt.title('sigma: ' + str(sigma) + ', ar: ' + str(ar))\n",
    "plt.hist(ar_list, bins=20)\n",
    "ar_array = np.array(ar_list)\n",
    "upper_perc = np.percentile(ar_array, 97.5, axis=0)\n",
    "lower_perc = np.percentile(ar_array, 2.5, axis=0)\n",
    "plt.axvline(upper_perc, color='k', linestyle='dashed', linewidth=1)\n",
    "plt.axvline(lower_perc, color='k', linestyle='dashed', linewidth=1)\n",
    "plt.ylabel('Number of occurance') \n",
    "print(upper_perc, lower_perc)"
   ]
  },
  {
   "cell_type": "code",
   "execution_count": 28,
   "metadata": {},
   "outputs": [
    {
     "name": "stdout",
     "output_type": "stream",
     "text": [
      "0.9409609827252406 0.8324195340233236\n"
     ]
    },
    {
     "data": {
      "image/png": "[encoded data removed]",
      "text/plain": [
       "<matplotlib.figure.Figure at 0x186c2e80>"
      ]
     },
     "metadata": {
      "needs_background": "light"
     },
     "output_type": "display_data"
    }
   ],
   "source": [
    "ar_list = []\n",
    "ma_list = []\n",
    "ar = np.array([ 0.9 ])\n",
    "sigma = 0.5\n",
    "ma = np.array([ 0.4 ])\n",
    "for i in range(100):\n",
    "    sim1 = simArima(ar = ar, d = 0, ma = ma, n = 300, sigma = sigma)\n",
    "    try:\n",
    "        model = ARMA(sim1, order = (1,1)).fit(method='mle', trend='nc')\n",
    "        ar_list.append(model.arparams[0])\n",
    "        ma_list.append(model.maparams[0])\n",
    "    except:\n",
    "        continue\n",
    "plt.title('sigma: ' + str(sigma) + ', ar: ' + str(ar))\n",
    "plt.hist(ar_list, bins=20)\n",
    "ar_array = np.array(ar_list)\n",
    "upper_perc = np.percentile(ar_array, 97.5, axis=0)\n",
    "lower_perc = np.percentile(ar_array, 2.5, axis=0)\n",
    "plt.axvline(upper_perc, color='k', linestyle='dashed', linewidth=1)\n",
    "plt.axvline(lower_perc, color='k', linestyle='dashed', linewidth=1)\n",
    "plt.ylabel('Number of occurance')  \n",
    "print(upper_perc, lower_perc)"
   ]
  },
  {
   "cell_type": "code",
   "execution_count": 29,
   "metadata": {},
   "outputs": [
    {
     "name": "stderr",
     "output_type": "stream",
     "text": [
      "C:\\working\\Python_3_withTroch\\Python3\\python-3.6.2.amd64\\statsmodels\\base\\model.py:508: ConvergenceWarning: Maximum Likelihood optimization failed to converge. Check mle_retvals\n",
      "  \"Check mle_retvals\", ConvergenceWarning)\n"
     ]
    },
    {
     "name": "stdout",
     "output_type": "stream",
     "text": [
      "0.9963112255510684 0.9520116948337666\n"
     ]
    },
    {
     "data": {
      "image/png": "[encoded data removed]",
      "text/plain": [
       "<matplotlib.figure.Figure at 0x16f9b8d0>"
      ]
     },
     "metadata": {
      "needs_background": "light"
     },
     "output_type": "display_data"
    }
   ],
   "source": [
    "ar_list = []\n",
    "ma_list = []\n",
    "ar = np.array([ 0.995 ])\n",
    "sigma = 0.5\n",
    "ma = np.array([ 0.4 ])\n",
    "for i in range(100):\n",
    "    sim1 = simArima(ar = ar, d = 0, ma = ma, n = 300, sigma = sigma)\n",
    "    try:\n",
    "        model = ARMA(sim1, order = (1,1)).fit(method='mle', trend='nc')\n",
    "        ar_list.append(model.arparams[0])\n",
    "        ma_list.append(model.maparams[0])\n",
    "    except:\n",
    "        continue\n",
    "plt.title('sigma: ' + str(sigma) + ', ar: ' + str(ar))\n",
    "plt.hist(ar_list, bins=20)\n",
    "ar_array = np.array(ar_list)\n",
    "upper_perc = np.percentile(ar_array, 97.5, axis=0)\n",
    "lower_perc = np.percentile(ar_array, 2.5, axis=0)\n",
    "plt.axvline(upper_perc, color='k', linestyle='dashed', linewidth=1)\n",
    "plt.axvline(lower_perc, color='k', linestyle='dashed', linewidth=1)\n",
    "plt.ylabel('Number of occurance') \n",
    "print(upper_perc, lower_perc)"
   ]
  }
 ],
 "metadata": {
  "kernelspec": {
   "display_name": "Python 3",
   "language": "python",
   "name": "python3"
  },
  "language_info": {
   "codemirror_mode": {
    "name": "ipython",
    "version": 3
   },
   "file_extension": ".py",
   "mimetype": "text/x-python",
   "name": "python",
   "nbconvert_exporter": "python",
   "pygments_lexer": "ipython3",
   "version": "3.6.2"
  }
 },
 "nbformat": 4,
 "nbformat_minor": 2
}
